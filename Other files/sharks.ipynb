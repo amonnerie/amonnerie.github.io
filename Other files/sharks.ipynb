{
 "cells": [
  {
   "cell_type": "markdown",
   "id": "6607ba1a",
   "metadata": {},
   "source": [
    "# Sharks "
   ]
  },
  {
   "cell_type": "code",
   "execution_count": 1,
   "id": "1fce4f22",
   "metadata": {},
   "outputs": [],
   "source": [
    "from pymongo import MongoClient\n",
    "from pprint import pprint"
   ]
  },
  {
   "cell_type": "code",
   "execution_count": 4,
   "id": "9dc8826d",
   "metadata": {},
   "outputs": [],
   "source": [
    "# Create an instance of MongoClient\n",
    "mongo = MongoClient(port=27017)"
   ]
  },
  {
   "cell_type": "code",
   "execution_count": 6,
   "id": "60ebdfc9",
   "metadata": {},
   "outputs": [
    {
     "name": "stdout",
     "output_type": "stream",
     "text": [
      "['admin', 'classDB', 'config', 'local', 'met', 'uk_food']\n"
     ]
    }
   ],
   "source": [
    "# confirm that our new database was created\n",
    "print(mongo.list_database_names())"
   ]
  },
  {
   "cell_type": "code",
   "execution_count": 33,
   "id": "3cab0c81",
   "metadata": {},
   "outputs": [],
   "source": [
    "# assign the database to a variable name\n",
    "db = mongo['Shark_AttacksDB']"
   ]
  },
  {
   "cell_type": "code",
   "execution_count": 43,
   "id": "3f57b567",
   "metadata": {},
   "outputs": [
    {
     "name": "stdout",
     "output_type": "stream",
     "text": [
      "['Events', 'filtered_events']\n"
     ]
    }
   ],
   "source": [
    "# review the collections in our new database\n",
    "print(db.list_collection_names())"
   ]
  },
  {
   "cell_type": "code",
   "execution_count": 35,
   "id": "6360d848",
   "metadata": {},
   "outputs": [
    {
     "name": "stdout",
     "output_type": "stream",
     "text": [
      "{'Activity': 'Paddling',\n",
      " 'Area': 'California',\n",
      " 'Case Number': '2018.06.25',\n",
      " 'Country': 'USA',\n",
      " 'Date': '25-Jun-18',\n",
      " 'Fatal (Y/N)': 'N',\n",
      " 'Injury': 'No injury to occupant, outrigger canoe and paddle damaged',\n",
      " 'Location': 'Oceanside, San Diego County',\n",
      " 'Sex ': 'F',\n",
      " 'Type': 'Boating',\n",
      " 'Year': 2018,\n",
      " '_id': ObjectId('64b9f9b7cd4dab5c54d1ae7d'),\n",
      " 'href formula': 'http://sharkattackfile.net/spreadsheets/pdf_directory/2018.06.25-Wolfe.pdf'}\n"
     ]
    }
   ],
   "source": [
    "# review a document in the Events collection\n",
    "pprint(db.Events.find_one())"
   ]
  },
  {
   "cell_type": "code",
   "execution_count": 46,
   "id": "c6d8a4fd",
   "metadata": {},
   "outputs": [],
   "source": [
    "# assign the collection to a variable\n",
    "events = db['Events']\n",
    "filtered_events = db['filtered_events']"
   ]
  },
  {
   "cell_type": "code",
   "execution_count": 39,
   "id": "e6f7a0ee",
   "metadata": {},
   "outputs": [
    {
     "name": "stdout",
     "output_type": "stream",
     "text": [
      "[{'Activity': 'Surfing',\n",
      "  'Area': 'Eastern Province',\n",
      "  'Case Number': '2010.01.05',\n",
      "  'Country': 'SOUTH AFRICA',\n",
      "  'Date': '5-Jan-10',\n",
      "  'Fatal (Y/N)': 'N',\n",
      "  'Injury': 'No injury, reportedly knocked of his board by a shark',\n",
      "  'Location': 'Nahoon, East London',\n",
      "  'Sex ': 'M',\n",
      "  'Type': 'Unprovoked',\n",
      "  'Year': 2010,\n",
      "  '_id': ObjectId('64b9f9b7cd4dab5c54d1b29e'),\n",
      "  'href formula': 'http://sharkattackfile.net/spreadsheets/pdf_directory/2010.01.05-Nahoon-surfer.pdf'},\n",
      " {'Activity': 'Spearfishing',\n",
      "  'Area': 'Florida',\n",
      "  'Case Number': '2010.01.06',\n",
      "  'Country': 'USA',\n",
      "  'Date': '6-Jan-10',\n",
      "  'Fatal (Y/N)': 'N',\n",
      "  'Injury': 'Lacerations to  arm',\n",
      "  'Location': 'Elliot Key',\n",
      "  'Sex ': 'M',\n",
      "  'Type': 'Unprovoked',\n",
      "  'Year': 2010,\n",
      "  '_id': ObjectId('64b9f9b7cd4dab5c54d1b29d'),\n",
      "  'href formula': 'http://sharkattackfile.net/spreadsheets/pdf_directory/2010.01.06-Chirino.pdf'},\n",
      " {'Activity': 'Bathing',\n",
      "  'Area': 'Binh Dinh Province',\n",
      "  'Case Number': '2010.01.09.a',\n",
      "  'Country': 'VIETNAM',\n",
      "  'Date': '9-Jan-10',\n",
      "  'Fatal (Y/N)': 'N',\n",
      "  'Injury': 'Left arm bitten twice',\n",
      "  'Location': 'Quy Nhon ',\n",
      "  'Sex ': 'M',\n",
      "  'Type': 'Unprovoked',\n",
      "  'Year': 2010,\n",
      "  '_id': ObjectId('64b9f9b7cd4dab5c54d1b29c'),\n",
      "  'href formula': 'http://sharkattackfile.net/spreadsheets/pdf_directory/2010.01.09.a-Tuan.pdf'},\n",
      " {'Area': 'Binh Dinh Province',\n",
      "  'Case Number': '2010.01.09.b',\n",
      "  'Country': 'VIETNAM',\n",
      "  'Date': '9-Jan-10',\n",
      "  'Fatal (Y/N)': 'N',\n",
      "  'Injury': 'Right wrist bitten',\n",
      "  'Location': 'Quy Nhon ',\n",
      "  'Sex ': 'M',\n",
      "  'Type': 'Unprovoked',\n",
      "  'Year': 2010,\n",
      "  '_id': ObjectId('64b9f9b7cd4dab5c54d1b29b'),\n",
      "  'href formula': 'http://sharkattackfile.net/spreadsheets/pdf_directory/2010.01.09.b-Hanh.pdf'},\n",
      " {'Area': 'Binh Dinh Province',\n",
      "  'Case Number': '2010.01.09.c',\n",
      "  'Country': 'VIETNAM',\n",
      "  'Date': '9-Jan-10',\n",
      "  'Fatal (Y/N)': 'N',\n",
      "  'Injury': 'Minor injuries',\n",
      "  'Location': 'Quy Nhon ',\n",
      "  'Sex ': 'F',\n",
      "  'Type': 'Unprovoked',\n",
      "  'Year': 2010,\n",
      "  '_id': ObjectId('64b9f9b7cd4dab5c54d1b29a'),\n",
      "  'href formula': 'http://sharkattackfile.net/spreadsheets/pdf_directory/2010.01.09.c-woman.pdf'}]\n"
     ]
    }
   ],
   "source": [
    "# Query all the events prior to 2010\n",
    "query = {'Year': {'$lte': 2010}}\n",
    "\n",
    "# sort in ascending order by events\n",
    "sort = [('Case Number', 1)]\n",
    "\n",
    "# limit the results to the first 5\n",
    "limit = 5\n",
    "\n",
    "# Pretty print the results\n",
    "pprint(list(events.find(query).sort(sort).limit(limit)))"
   ]
  },
  {
   "cell_type": "code",
   "execution_count": 38,
   "id": "e526b7c3",
   "metadata": {},
   "outputs": [
    {
     "data": {
      "text/plain": [
       "<pymongo.results.DeleteResult at 0x2b7e9fe9840>"
      ]
     },
     "execution_count": 38,
     "metadata": {},
     "output_type": "execute_result"
    }
   ],
   "source": [
    "# Delete cases prior to 2010\n",
    "events.delete_many({'Year': {'$lt': 2010}})"
   ]
  },
  {
   "cell_type": "code",
   "execution_count": 42,
   "id": "f36376ba",
   "metadata": {
    "scrolled": true
   },
   "outputs": [
    {
     "name": "stdout",
     "output_type": "stream",
     "text": [
      "[{'Activity': 'Standing',\n",
      "  'Area': 'Georgia',\n",
      "  'Case Number': '2018.06.18',\n",
      "  'Country': 'USA',\n",
      "  'Date': '18-Jun-18',\n",
      "  'Fatal (Y/N)': 'N',\n",
      "  'Injury': 'Minor injury to left thigh',\n",
      "  'Location': 'St. Simon Island, Glynn County',\n",
      "  'Sex ': 'F',\n",
      "  'Type': 'Unprovoked',\n",
      "  'Year': 2018,\n",
      "  '_id': ObjectId('64b9f9b7cd4dab5c54d1ae7e'),\n",
      "  'href formula': 'http://sharkattackfile.net/spreadsheets/pdf_directory/2018.06.18-McNeely.pdf'},\n",
      " {'Activity': 'Fishing',\n",
      "  'Area': 'Florida',\n",
      "  'Case Number': '2018.05.27',\n",
      "  'Country': 'USA',\n",
      "  'Date': '27-May-18',\n",
      "  'Fatal (Y/N)': 'N',\n",
      "  'Injury': 'Minor injury to foot. PROVOKED INCIDENT',\n",
      "  'Location': 'Lighhouse Point Park, Ponce Inlet, Volusia County',\n",
      "  'Sex ': 'M',\n",
      "  'Type': 'Unprovoked',\n",
      "  'Year': 2018,\n",
      "  '_id': ObjectId('64b9f9b7cd4dab5c54d1ae84'),\n",
      "  'href formula': 'http://sharkattackfile.net/spreadsheets/pdf_directory/2018.05.27-Ponce.pdf'},\n",
      " {'Activity': 'Walking',\n",
      "  'Area': 'Florida',\n",
      "  'Case Number': '2018.05.26.b',\n",
      "  'Country': 'USA',\n",
      "  'Date': '26-May-18',\n",
      "  'Fatal (Y/N)': 'N',\n",
      "  'Injury': 'Lower left leg bitten',\n",
      "  'Location': 'Cocoa Beach, Brevard  County',\n",
      "  'Sex ': 'M',\n",
      "  'Type': 'Unprovoked',\n",
      "  'Year': 2018,\n",
      "  '_id': ObjectId('64b9f9b7cd4dab5c54d1ae85'),\n",
      "  'href formula': 'http://sharkattackfile.net/spreadsheets/pdf_directory/2018.05.26.b-High.pdf'},\n",
      " {'Activity': 'Paddling',\n",
      "  'Area': 'California',\n",
      "  'Case Number': '2018.06.25',\n",
      "  'Country': 'USA',\n",
      "  'Date': '25-Jun-18',\n",
      "  'Fatal (Y/N)': 'N',\n",
      "  'Injury': 'No injury to occupant, outrigger canoe and paddle damaged',\n",
      "  'Location': 'Oceanside, San Diego County',\n",
      "  'Sex ': 'F',\n",
      "  'Type': 'Boating',\n",
      "  'Year': 2018,\n",
      "  '_id': ObjectId('64b9f9b7cd4dab5c54d1ae7d'),\n",
      "  'href formula': 'http://sharkattackfile.net/spreadsheets/pdf_directory/2018.06.25-Wolfe.pdf'},\n",
      " {'Activity': 'Surfing',\n",
      "  'Area': 'Hawaii',\n",
      "  'Case Number': '2018.06.09',\n",
      "  'Country': 'USA',\n",
      "  'Date': '9-Jun-18',\n",
      "  'Fatal (Y/N)': 'N',\n",
      "  'Injury': 'Injury to left lower leg from surfboard skeg',\n",
      "  'Location': 'Habush, Oahu',\n",
      "  'Sex ': 'M',\n",
      "  'Type': 'Invalid',\n",
      "  'Year': 2018,\n",
      "  '_id': ObjectId('64b9f9b7cd4dab5c54d1ae7f'),\n",
      "  'href formula': 'http://sharkattackfile.net/spreadsheets/pdf_directory/2018.06.09-Denges.pdf'}]\n"
     ]
    }
   ],
   "source": [
    "# Create a query that:\n",
    "# finds Events in USA, CANADA and MEXICO\n",
    "\n",
    "query_location = {'Country': {'$in': [\"USA\", \"CANADA\", \"MEXICO\"]}}\n",
    "sort = [('Country', -1)]\n",
    "limit = 5\n",
    "\n",
    "# Pretty print the results\n",
    "pprint(list(events.find(query_location).sort(sort).limit(limit)))"
   ]
  },
  {
   "cell_type": "code",
   "execution_count": 47,
   "id": "b11e18fd",
   "metadata": {
    "scrolled": true
   },
   "outputs": [
    {
     "name": "stderr",
     "output_type": "stream",
     "text": [
      "C:\\Users\\lmw56\\AppData\\Local\\Temp\\ipykernel_18568\\315016962.py:2: DeprecationWarning: count is deprecated. Use estimated_document_count or count_documents instead. Please note that $where must be replaced by $expr, $near must be replaced by $geoWithin with $center, and $nearSphere must be replaced by $geoWithin with $centerSphere\n",
      "  filtered_events.count({})\n"
     ]
    },
    {
     "data": {
      "text/plain": [
       "507"
      ]
     },
     "execution_count": 47,
     "metadata": {},
     "output_type": "execute_result"
    }
   ],
   "source": [
    "#Final Count\n",
    "filtered_events.count({})"
   ]
  },
  {
   "cell_type": "code",
   "execution_count": null,
   "id": "d0a3e6c4",
   "metadata": {},
   "outputs": [],
   "source": []
  },
  {
   "cell_type": "code",
   "execution_count": 12,
   "id": "9113832a",
   "metadata": {},
   "outputs": [],
   "source": []
  },
  {
   "cell_type": "code",
   "execution_count": 13,
   "id": "2f1a4f4f",
   "metadata": {},
   "outputs": [
    {
     "data": {
      "text/plain": [
       "[]"
      ]
     },
     "execution_count": 13,
     "metadata": {},
     "output_type": "execute_result"
    }
   ],
   "source": []
  },
  {
   "cell_type": "code",
   "execution_count": null,
   "id": "e1f35bc9",
   "metadata": {},
   "outputs": [],
   "source": []
  }
 ],
 "metadata": {
  "kernelspec": {
   "display_name": "Python 3 (ipykernel)",
   "language": "python",
   "name": "python3"
  },
  "language_info": {
   "codemirror_mode": {
    "name": "ipython",
    "version": 3
   },
   "file_extension": ".py",
   "mimetype": "text/x-python",
   "name": "python",
   "nbconvert_exporter": "python",
   "pygments_lexer": "ipython3",
   "version": "3.9.13"
  }
 },
 "nbformat": 4,
 "nbformat_minor": 5
}
